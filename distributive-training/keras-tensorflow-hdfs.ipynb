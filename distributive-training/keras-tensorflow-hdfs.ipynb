{
 "cells": [
  {
   "cell_type": "code",
   "execution_count": 3,
   "metadata": {},
   "outputs": [],
   "source": [
    "# Imports\n",
    "import tensorflow as tf\n",
    "from tensorflow.keras.models import Sequential\n",
    "from tensorflow.keras.layers import Dense, Dropout,Activation\n",
    "# Stop using keras package as it's migrated into tensorflow\n",
    "# from keras.models import Sequential\n",
    "# from keras.layers import Dense\n",
    "from sklearn.model_selection import train_test_split\n",
    "import matplotlib.pyplot as plt\n",
    "import seaborn as sns\n",
    "import numpy as np\n",
    "import pandas as pd\n",
    "import IPython\n",
    "\n",
    "import warnings\n",
    "\n",
    "%matplotlib inline"
   ]
  },
  {
   "cell_type": "code",
   "execution_count": 10,
   "metadata": {},
   "outputs": [],
   "source": [
    "def _parse_function(proto):\n",
    "    \n",
    "    columns = [\"User_ID\", \"Product_ID\", \"Gender\", \"Age\", \"Occupation\", \"City_Category\", \"Stay_In_Current_City_Years\",\n",
    "                    \"Marital_Status\", \"Product_Category_1\", \"Product_Category_2\", \"Product_Category_3\", \"Purchase\"]\n",
    "\n",
    "    keys_to_features = {}\n",
    "    for col_name in columns:\n",
    "        keys_to_features[col_name] = tf.FixedLenFeature([], tf.float32)\n",
    "\n",
    "    dataset = tf.data.TFRecordDataset([\"hdfs://localhost:9000/machine-learning-final/tfrecords\"])\n",
    "    dataset = dataset.map(lambda record: tf.parse_single_example(record, keys_to_features))\n"
   ]
  },
  {
   "cell_type": "code",
   "execution_count": 11,
   "metadata": {},
   "outputs": [
    {
     "data": {
      "text/plain": [
       "<DatasetV1Adapter shapes: {Age: (), City_Category: (), Gender: (), Marital_Status: (), Occupation: (), Product_Category_1: (), Product_Category_2: (), Product_Category_3: (), Product_ID: (), Purchase: (), Stay_In_Current_City_Years: (), User_ID: ()}, types: {Age: tf.float32, City_Category: tf.float32, Gender: tf.float32, Marital_Status: tf.float32, Occupation: tf.float32, Product_Category_1: tf.float32, Product_Category_2: tf.float32, Product_Category_3: tf.float32, Product_ID: tf.float32, Purchase: tf.float32, Stay_In_Current_City_Years: tf.float32, User_ID: tf.float32}>"
      ]
     },
     "execution_count": 11,
     "metadata": {},
     "output_type": "execute_result"
    }
   ],
   "source": [
    "dataset"
   ]
  },
  {
   "cell_type": "code",
   "execution_count": null,
   "metadata": {},
   "outputs": [],
   "source": []
  }
 ],
 "metadata": {
  "kernelspec": {
   "display_name": "Python 3",
   "language": "python",
   "name": "python3"
  },
  "language_info": {
   "codemirror_mode": {
    "name": "ipython",
    "version": 3
   },
   "file_extension": ".py",
   "mimetype": "text/x-python",
   "name": "python",
   "nbconvert_exporter": "python",
   "pygments_lexer": "ipython3",
   "version": "3.7.6"
  }
 },
 "nbformat": 4,
 "nbformat_minor": 4
}
