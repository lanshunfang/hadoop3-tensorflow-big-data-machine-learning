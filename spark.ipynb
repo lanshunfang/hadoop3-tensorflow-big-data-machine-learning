{
 "cells": [
  {
   "cell_type": "code",
   "execution_count": 8,
   "metadata": {},
   "outputs": [],
   "source": [
    "# Init global variables\n",
    "python_path = !which python\n",
    "python_path = python_path[0]\n",
    "pwd=!pwd\n",
    "pwd=pwd[0]\n",
    "print(python_path,pwd)"
   ]
  },
  {
   "cell_type": "code",
   "execution_count": 11,
   "metadata": {},
   "outputs": [],
   "source": [
    "# link Jupyter Notebook to Spark\n",
    "import os\n",
    "import sys\n",
    "os.environ[\"PYSPARK_PYTHON\"] = python_path\n",
    "# JAVA_HOME_8=/Library/Java/JavaVirtualMachines/jdk1.8.0_121.jdk/Contents/Home\n",
    "os.environ[\"JAVA_HOME\"] = os.environ[\"JAVA_HOME_8\"]\n",
    "#os.environ[\"SPARK_HOME\"] = \"/usr/local/Cellar/apache-spark/3.0.0/libexec/\"\n",
    "os.environ[\"PYLIB\"] = os.environ[\"SPARK_HOME\"] + \"/python/lib\"\n",
    "sys.path.insert(0, os.environ[\"PYLIB\"] +\"/py4j-0.9-src.zip\")\n",
    "sys.path.insert(0, os.environ[\"PYLIB\"] +\"/pyspark.zip\")"
   ]
  },
  {
   "cell_type": "code",
   "execution_count": null,
   "metadata": {},
   "outputs": [],
   "source": []
  }
 ],
 "metadata": {
  "kernelspec": {
   "display_name": "Python 3",
   "language": "python",
   "name": "python3"
  },
  "language_info": {
   "codemirror_mode": {
    "name": "ipython",
    "version": 3
   },
   "file_extension": ".py",
   "mimetype": "text/x-python",
   "name": "python",
   "nbconvert_exporter": "python",
   "pygments_lexer": "ipython3",
   "version": "3.7.6"
  }
 },
 "nbformat": 4,
 "nbformat_minor": 4
}
